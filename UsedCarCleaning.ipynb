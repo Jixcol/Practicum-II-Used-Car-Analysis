{
 "cells": [
  {
   "cell_type": "markdown",
   "metadata": {},
   "source": [
    "# Data Practicum II - Used Car Cleaning"
   ]
  },
  {
   "cell_type": "code",
   "execution_count": 8,
   "metadata": {},
   "outputs": [],
   "source": [
    "import pandas as pd\n",
    "import numpy as np\n",
    "import random as rnd\n",
    "import math \n",
    "from sklearn.experimental import enable_iterative_imputer\n",
    "from sklearn.impute import IterativeImputer\n",
    "from sklearn.impute import KNNImputer\n",
    "from sklearn.model_selection import train_test_split\n",
    "from sklearn.preprocessing import MinMaxScaler\n",
    "from sklearn.model_selection import GridSearchCV\n",
    "from sklearn.ensemble import RandomForestRegressor\n",
    "from sklearn.neural_network import MLPRegressor\n",
    "from sklearn.metrics import mean_absolute_error, r2_score, mean_squared_error #Get RMSE to return units to original to compare can find this by simply rotting the MSE"
   ]
  },
  {
   "cell_type": "code",
   "execution_count": 9,
   "metadata": {},
   "outputs": [],
   "source": [
    "import plotly.express as px\n",
    "import seaborn as sns\n",
    "import matplotlib.pyplot as plt\n",
    "%matplotlib inline"
   ]
  },
  {
   "cell_type": "markdown",
   "metadata": {},
   "source": [
    "### Data Cleaning/Preprocessing"
   ]
  },
  {
   "cell_type": "code",
   "execution_count": 10,
   "metadata": {},
   "outputs": [],
   "source": [
    "#Reformat Output to avoid scientific notation\n",
    "pd.options.display.float_format = '{:.2f}'.format"
   ]
  },
  {
   "cell_type": "code",
   "execution_count": 11,
   "metadata": {},
   "outputs": [],
   "source": [
    "workingDataset = pd.read_csv(\"vehicles.csv\")"
   ]
  },
  {
   "cell_type": "code",
   "execution_count": 12,
   "metadata": {},
   "outputs": [
    {
     "data": {
      "text/plain": [
       "(426880, 26)"
      ]
     },
     "execution_count": 12,
     "metadata": {},
     "output_type": "execute_result"
    }
   ],
   "source": [
    "workingDataset.shape"
   ]
  },
  {
   "cell_type": "markdown",
   "metadata": {},
   "source": [
    "Before even inspecting the dataset further what we want to do is remove any duplicates. "
   ]
  },
  {
   "cell_type": "code",
   "execution_count": 13,
   "metadata": {},
   "outputs": [],
   "source": [
    "workingDataset = workingDataset.drop_duplicates()"
   ]
  },
  {
   "cell_type": "code",
   "execution_count": 14,
   "metadata": {},
   "outputs": [
    {
     "data": {
      "text/plain": [
       "(426880, 26)"
      ]
     },
     "execution_count": 14,
     "metadata": {},
     "output_type": "execute_result"
    }
   ],
   "source": [
    "workingDataset.shape"
   ]
  },
  {
   "cell_type": "markdown",
   "metadata": {},
   "source": [
    "Now we want to remove any irrelevant data. The end goal of this project is to come out with a model to predict used car prices. "
   ]
  },
  {
   "cell_type": "code",
   "execution_count": 15,
   "metadata": {},
   "outputs": [
    {
     "name": "stdout",
     "output_type": "stream",
     "text": [
      "<class 'pandas.core.frame.DataFrame'>\n",
      "Int64Index: 426880 entries, 0 to 426879\n",
      "Data columns (total 26 columns):\n",
      " #   Column        Non-Null Count   Dtype  \n",
      "---  ------        --------------   -----  \n",
      " 0   id            426880 non-null  int64  \n",
      " 1   url           426880 non-null  object \n",
      " 2   region        426880 non-null  object \n",
      " 3   region_url    426880 non-null  object \n",
      " 4   price         426880 non-null  int64  \n",
      " 5   year          425675 non-null  float64\n",
      " 6   manufacturer  409234 non-null  object \n",
      " 7   model         421603 non-null  object \n",
      " 8   condition     252776 non-null  object \n",
      " 9   cylinders     249202 non-null  object \n",
      " 10  fuel          423867 non-null  object \n",
      " 11  odometer      422480 non-null  float64\n",
      " 12  title_status  418638 non-null  object \n",
      " 13  transmission  424324 non-null  object \n",
      " 14  VIN           265838 non-null  object \n",
      " 15  drive         296313 non-null  object \n",
      " 16  size          120519 non-null  object \n",
      " 17  type          334022 non-null  object \n",
      " 18  paint_color   296677 non-null  object \n",
      " 19  image_url     426812 non-null  object \n",
      " 20  description   426810 non-null  object \n",
      " 21  county        0 non-null       float64\n",
      " 22  state         426880 non-null  object \n",
      " 23  lat           420331 non-null  float64\n",
      " 24  long          420331 non-null  float64\n",
      " 25  posting_date  426812 non-null  object \n",
      "dtypes: float64(5), int64(2), object(19)\n",
      "memory usage: 87.9+ MB\n"
     ]
    }
   ],
   "source": [
    "workingDataset.info()"
   ]
  },
  {
   "cell_type": "markdown",
   "metadata": {},
   "source": [
    "Looking over the summary we can see that we have a lot of string types that will need to be cleaned but even before that we have a lot of missing values. County has zero entries so removing that can be done without question. Additional attributes that we don't really need are posting_data, image_url, id, url, region_url, description, and VIN. The one complex issue I see is using region, state, lat, and long. I should pick either between region and state or lat and long. Using the categorical attributes my dataset would become very large and sparce. I will go ahead and use lat and long to make the data dimensions more managable. "
   ]
  },
  {
   "cell_type": "code",
   "execution_count": 16,
   "metadata": {},
   "outputs": [
    {
     "name": "stdout",
     "output_type": "stream",
     "text": [
      "(426880, 26)\n",
      "(426880, 16)\n"
     ]
    }
   ],
   "source": [
    "print(workingDataset.shape)\n",
    "workingDataset = workingDataset.drop(['id','url','region','region_url','VIN','image_url','description','county','state','posting_date'], axis=1)\n",
    "print(workingDataset.shape)"
   ]
  },
  {
   "cell_type": "code",
   "execution_count": 17,
   "metadata": {},
   "outputs": [
    {
     "name": "stdout",
     "output_type": "stream",
     "text": [
      "<class 'pandas.core.frame.DataFrame'>\n",
      "Int64Index: 426880 entries, 0 to 426879\n",
      "Data columns (total 16 columns):\n",
      " #   Column        Non-Null Count   Dtype  \n",
      "---  ------        --------------   -----  \n",
      " 0   price         426880 non-null  int64  \n",
      " 1   year          425675 non-null  float64\n",
      " 2   manufacturer  409234 non-null  object \n",
      " 3   model         421603 non-null  object \n",
      " 4   condition     252776 non-null  object \n",
      " 5   cylinders     249202 non-null  object \n",
      " 6   fuel          423867 non-null  object \n",
      " 7   odometer      422480 non-null  float64\n",
      " 8   title_status  418638 non-null  object \n",
      " 9   transmission  424324 non-null  object \n",
      " 10  drive         296313 non-null  object \n",
      " 11  size          120519 non-null  object \n",
      " 12  type          334022 non-null  object \n",
      " 13  paint_color   296677 non-null  object \n",
      " 14  lat           420331 non-null  float64\n",
      " 15  long          420331 non-null  float64\n",
      "dtypes: float64(4), int64(1), object(11)\n",
      "memory usage: 55.4+ MB\n"
     ]
    }
   ],
   "source": [
    "workingDataset.info()"
   ]
  },
  {
   "cell_type": "markdown",
   "metadata": {},
   "source": [
    "Lets look at the percentage of missing values"
   ]
  },
  {
   "cell_type": "code",
   "execution_count": 18,
   "metadata": {},
   "outputs": [
    {
     "data": {
      "text/plain": [
       "size           0.72\n",
       "cylinders      0.42\n",
       "condition      0.41\n",
       "drive          0.31\n",
       "paint_color    0.31\n",
       "type           0.22\n",
       "manufacturer   0.04\n",
       "title_status   0.02\n",
       "long           0.02\n",
       "lat            0.02\n",
       "model          0.01\n",
       "odometer       0.01\n",
       "fuel           0.01\n",
       "transmission   0.01\n",
       "year           0.00\n",
       "price          0.00\n",
       "dtype: float64"
      ]
     },
     "execution_count": 18,
     "metadata": {},
     "output_type": "execute_result"
    }
   ],
   "source": [
    "workingDataset.isna().mean().sort_values(ascending=False)"
   ]
  },
  {
   "cell_type": "code",
   "execution_count": 19,
   "metadata": {},
   "outputs": [
    {
     "data": {
      "text/plain": [
       "size            306361\n",
       "cylinders       177678\n",
       "condition       174104\n",
       "drive           130567\n",
       "paint_color     130203\n",
       "type             92858\n",
       "manufacturer     17646\n",
       "title_status      8242\n",
       "long              6549\n",
       "lat               6549\n",
       "model             5277\n",
       "odometer          4400\n",
       "fuel              3013\n",
       "transmission      2556\n",
       "year              1205\n",
       "price                0\n",
       "dtype: int64"
      ]
     },
     "execution_count": 19,
     "metadata": {},
     "output_type": "execute_result"
    }
   ],
   "source": [
    "workingDataset.isna().sum().sort_values(ascending=False)"
   ]
  },
  {
   "cell_type": "markdown",
   "metadata": {},
   "source": [
    "Looking at the percentage of missing data we don't really need size. We have type which is essetially a more broader category and has significantly less missing values to work with. "
   ]
  },
  {
   "cell_type": "code",
   "execution_count": 20,
   "metadata": {},
   "outputs": [
    {
     "name": "stdout",
     "output_type": "stream",
     "text": [
      "(426880, 16)\n",
      "(426880, 15)\n"
     ]
    }
   ],
   "source": [
    "print(workingDataset.shape)\n",
    "workingDataset = workingDataset.drop(['size'], axis=1)\n",
    "print(workingDataset.shape)"
   ]
  },
  {
   "cell_type": "markdown",
   "metadata": {},
   "source": [
    "What has to be done before we can fill missing values with the iterative imputer i want to use is we need to convert categorical attributes to numeric. I also need to convert all empty spaces to NaN"
   ]
  },
  {
   "cell_type": "code",
   "execution_count": 21,
   "metadata": {},
   "outputs": [
    {
     "data": {
      "text/html": [
       "<div>\n",
       "<style scoped>\n",
       "    .dataframe tbody tr th:only-of-type {\n",
       "        vertical-align: middle;\n",
       "    }\n",
       "\n",
       "    .dataframe tbody tr th {\n",
       "        vertical-align: top;\n",
       "    }\n",
       "\n",
       "    .dataframe thead th {\n",
       "        text-align: right;\n",
       "    }\n",
       "</style>\n",
       "<table border=\"1\" class=\"dataframe\">\n",
       "  <thead>\n",
       "    <tr style=\"text-align: right;\">\n",
       "      <th></th>\n",
       "      <th>price</th>\n",
       "      <th>year</th>\n",
       "      <th>manufacturer</th>\n",
       "      <th>model</th>\n",
       "      <th>condition</th>\n",
       "      <th>cylinders</th>\n",
       "      <th>fuel</th>\n",
       "      <th>odometer</th>\n",
       "      <th>title_status</th>\n",
       "      <th>transmission</th>\n",
       "      <th>drive</th>\n",
       "      <th>type</th>\n",
       "      <th>paint_color</th>\n",
       "      <th>lat</th>\n",
       "      <th>long</th>\n",
       "    </tr>\n",
       "  </thead>\n",
       "  <tbody>\n",
       "    <tr>\n",
       "      <th>0</th>\n",
       "      <td>6000</td>\n",
       "      <td>nan</td>\n",
       "      <td>NaN</td>\n",
       "      <td>NaN</td>\n",
       "      <td>NaN</td>\n",
       "      <td>NaN</td>\n",
       "      <td>NaN</td>\n",
       "      <td>nan</td>\n",
       "      <td>NaN</td>\n",
       "      <td>NaN</td>\n",
       "      <td>NaN</td>\n",
       "      <td>NaN</td>\n",
       "      <td>NaN</td>\n",
       "      <td>nan</td>\n",
       "      <td>nan</td>\n",
       "    </tr>\n",
       "    <tr>\n",
       "      <th>1</th>\n",
       "      <td>11900</td>\n",
       "      <td>nan</td>\n",
       "      <td>NaN</td>\n",
       "      <td>NaN</td>\n",
       "      <td>NaN</td>\n",
       "      <td>NaN</td>\n",
       "      <td>NaN</td>\n",
       "      <td>nan</td>\n",
       "      <td>NaN</td>\n",
       "      <td>NaN</td>\n",
       "      <td>NaN</td>\n",
       "      <td>NaN</td>\n",
       "      <td>NaN</td>\n",
       "      <td>nan</td>\n",
       "      <td>nan</td>\n",
       "    </tr>\n",
       "    <tr>\n",
       "      <th>2</th>\n",
       "      <td>21000</td>\n",
       "      <td>nan</td>\n",
       "      <td>NaN</td>\n",
       "      <td>NaN</td>\n",
       "      <td>NaN</td>\n",
       "      <td>NaN</td>\n",
       "      <td>NaN</td>\n",
       "      <td>nan</td>\n",
       "      <td>NaN</td>\n",
       "      <td>NaN</td>\n",
       "      <td>NaN</td>\n",
       "      <td>NaN</td>\n",
       "      <td>NaN</td>\n",
       "      <td>nan</td>\n",
       "      <td>nan</td>\n",
       "    </tr>\n",
       "    <tr>\n",
       "      <th>3</th>\n",
       "      <td>1500</td>\n",
       "      <td>nan</td>\n",
       "      <td>NaN</td>\n",
       "      <td>NaN</td>\n",
       "      <td>NaN</td>\n",
       "      <td>NaN</td>\n",
       "      <td>NaN</td>\n",
       "      <td>nan</td>\n",
       "      <td>NaN</td>\n",
       "      <td>NaN</td>\n",
       "      <td>NaN</td>\n",
       "      <td>NaN</td>\n",
       "      <td>NaN</td>\n",
       "      <td>nan</td>\n",
       "      <td>nan</td>\n",
       "    </tr>\n",
       "    <tr>\n",
       "      <th>4</th>\n",
       "      <td>4900</td>\n",
       "      <td>nan</td>\n",
       "      <td>NaN</td>\n",
       "      <td>NaN</td>\n",
       "      <td>NaN</td>\n",
       "      <td>NaN</td>\n",
       "      <td>NaN</td>\n",
       "      <td>nan</td>\n",
       "      <td>NaN</td>\n",
       "      <td>NaN</td>\n",
       "      <td>NaN</td>\n",
       "      <td>NaN</td>\n",
       "      <td>NaN</td>\n",
       "      <td>nan</td>\n",
       "      <td>nan</td>\n",
       "    </tr>\n",
       "    <tr>\n",
       "      <th>...</th>\n",
       "      <td>...</td>\n",
       "      <td>...</td>\n",
       "      <td>...</td>\n",
       "      <td>...</td>\n",
       "      <td>...</td>\n",
       "      <td>...</td>\n",
       "      <td>...</td>\n",
       "      <td>...</td>\n",
       "      <td>...</td>\n",
       "      <td>...</td>\n",
       "      <td>...</td>\n",
       "      <td>...</td>\n",
       "      <td>...</td>\n",
       "      <td>...</td>\n",
       "      <td>...</td>\n",
       "    </tr>\n",
       "    <tr>\n",
       "      <th>426875</th>\n",
       "      <td>23590</td>\n",
       "      <td>2019.00</td>\n",
       "      <td>nissan</td>\n",
       "      <td>maxima s sedan 4d</td>\n",
       "      <td>good</td>\n",
       "      <td>6 cylinders</td>\n",
       "      <td>gas</td>\n",
       "      <td>32226.00</td>\n",
       "      <td>clean</td>\n",
       "      <td>other</td>\n",
       "      <td>fwd</td>\n",
       "      <td>sedan</td>\n",
       "      <td>NaN</td>\n",
       "      <td>33.79</td>\n",
       "      <td>-84.45</td>\n",
       "    </tr>\n",
       "    <tr>\n",
       "      <th>426876</th>\n",
       "      <td>30590</td>\n",
       "      <td>2020.00</td>\n",
       "      <td>volvo</td>\n",
       "      <td>s60 t5 momentum sedan 4d</td>\n",
       "      <td>good</td>\n",
       "      <td>NaN</td>\n",
       "      <td>gas</td>\n",
       "      <td>12029.00</td>\n",
       "      <td>clean</td>\n",
       "      <td>other</td>\n",
       "      <td>fwd</td>\n",
       "      <td>sedan</td>\n",
       "      <td>red</td>\n",
       "      <td>33.79</td>\n",
       "      <td>-84.45</td>\n",
       "    </tr>\n",
       "    <tr>\n",
       "      <th>426877</th>\n",
       "      <td>34990</td>\n",
       "      <td>2020.00</td>\n",
       "      <td>cadillac</td>\n",
       "      <td>xt4 sport suv 4d</td>\n",
       "      <td>good</td>\n",
       "      <td>NaN</td>\n",
       "      <td>diesel</td>\n",
       "      <td>4174.00</td>\n",
       "      <td>clean</td>\n",
       "      <td>other</td>\n",
       "      <td>NaN</td>\n",
       "      <td>hatchback</td>\n",
       "      <td>white</td>\n",
       "      <td>33.78</td>\n",
       "      <td>-84.41</td>\n",
       "    </tr>\n",
       "    <tr>\n",
       "      <th>426878</th>\n",
       "      <td>28990</td>\n",
       "      <td>2018.00</td>\n",
       "      <td>lexus</td>\n",
       "      <td>es 350 sedan 4d</td>\n",
       "      <td>good</td>\n",
       "      <td>6 cylinders</td>\n",
       "      <td>gas</td>\n",
       "      <td>30112.00</td>\n",
       "      <td>clean</td>\n",
       "      <td>other</td>\n",
       "      <td>fwd</td>\n",
       "      <td>sedan</td>\n",
       "      <td>silver</td>\n",
       "      <td>33.79</td>\n",
       "      <td>-84.45</td>\n",
       "    </tr>\n",
       "    <tr>\n",
       "      <th>426879</th>\n",
       "      <td>30590</td>\n",
       "      <td>2019.00</td>\n",
       "      <td>bmw</td>\n",
       "      <td>4 series 430i gran coupe</td>\n",
       "      <td>good</td>\n",
       "      <td>NaN</td>\n",
       "      <td>gas</td>\n",
       "      <td>22716.00</td>\n",
       "      <td>clean</td>\n",
       "      <td>other</td>\n",
       "      <td>rwd</td>\n",
       "      <td>coupe</td>\n",
       "      <td>NaN</td>\n",
       "      <td>33.78</td>\n",
       "      <td>-84.41</td>\n",
       "    </tr>\n",
       "  </tbody>\n",
       "</table>\n",
       "<p>426880 rows × 15 columns</p>\n",
       "</div>"
      ],
      "text/plain": [
       "        price    year manufacturer                     model condition  \\\n",
       "0        6000     nan          NaN                       NaN       NaN   \n",
       "1       11900     nan          NaN                       NaN       NaN   \n",
       "2       21000     nan          NaN                       NaN       NaN   \n",
       "3        1500     nan          NaN                       NaN       NaN   \n",
       "4        4900     nan          NaN                       NaN       NaN   \n",
       "...       ...     ...          ...                       ...       ...   \n",
       "426875  23590 2019.00       nissan         maxima s sedan 4d      good   \n",
       "426876  30590 2020.00        volvo  s60 t5 momentum sedan 4d      good   \n",
       "426877  34990 2020.00     cadillac          xt4 sport suv 4d      good   \n",
       "426878  28990 2018.00        lexus           es 350 sedan 4d      good   \n",
       "426879  30590 2019.00          bmw  4 series 430i gran coupe      good   \n",
       "\n",
       "          cylinders    fuel  odometer title_status transmission drive  \\\n",
       "0               NaN     NaN       nan          NaN          NaN   NaN   \n",
       "1               NaN     NaN       nan          NaN          NaN   NaN   \n",
       "2               NaN     NaN       nan          NaN          NaN   NaN   \n",
       "3               NaN     NaN       nan          NaN          NaN   NaN   \n",
       "4               NaN     NaN       nan          NaN          NaN   NaN   \n",
       "...             ...     ...       ...          ...          ...   ...   \n",
       "426875  6 cylinders     gas  32226.00        clean        other   fwd   \n",
       "426876          NaN     gas  12029.00        clean        other   fwd   \n",
       "426877          NaN  diesel   4174.00        clean        other   NaN   \n",
       "426878  6 cylinders     gas  30112.00        clean        other   fwd   \n",
       "426879          NaN     gas  22716.00        clean        other   rwd   \n",
       "\n",
       "             type paint_color   lat   long  \n",
       "0             NaN         NaN   nan    nan  \n",
       "1             NaN         NaN   nan    nan  \n",
       "2             NaN         NaN   nan    nan  \n",
       "3             NaN         NaN   nan    nan  \n",
       "4             NaN         NaN   nan    nan  \n",
       "...           ...         ...   ...    ...  \n",
       "426875      sedan         NaN 33.79 -84.45  \n",
       "426876      sedan         red 33.79 -84.45  \n",
       "426877  hatchback       white 33.78 -84.41  \n",
       "426878      sedan      silver 33.79 -84.45  \n",
       "426879      coupe         NaN 33.78 -84.41  \n",
       "\n",
       "[426880 rows x 15 columns]"
      ]
     },
     "execution_count": 21,
     "metadata": {},
     "output_type": "execute_result"
    }
   ],
   "source": [
    "workingDataset.replace(r'^\\s+$', np.nan, regex=True)"
   ]
  },
  {
   "cell_type": "code",
   "execution_count": 22,
   "metadata": {},
   "outputs": [
    {
     "data": {
      "text/html": [
       "<div>\n",
       "<style scoped>\n",
       "    .dataframe tbody tr th:only-of-type {\n",
       "        vertical-align: middle;\n",
       "    }\n",
       "\n",
       "    .dataframe tbody tr th {\n",
       "        vertical-align: top;\n",
       "    }\n",
       "\n",
       "    .dataframe thead th {\n",
       "        text-align: right;\n",
       "    }\n",
       "</style>\n",
       "<table border=\"1\" class=\"dataframe\">\n",
       "  <thead>\n",
       "    <tr style=\"text-align: right;\">\n",
       "      <th></th>\n",
       "      <th>price</th>\n",
       "      <th>year</th>\n",
       "      <th>manufacturer</th>\n",
       "      <th>model</th>\n",
       "      <th>condition</th>\n",
       "      <th>cylinders</th>\n",
       "      <th>fuel</th>\n",
       "      <th>odometer</th>\n",
       "      <th>title_status</th>\n",
       "      <th>transmission</th>\n",
       "      <th>drive</th>\n",
       "      <th>type</th>\n",
       "      <th>paint_color</th>\n",
       "      <th>lat</th>\n",
       "      <th>long</th>\n",
       "    </tr>\n",
       "  </thead>\n",
       "  <tbody>\n",
       "    <tr>\n",
       "      <th>count</th>\n",
       "      <td>426880.00</td>\n",
       "      <td>425675.00</td>\n",
       "      <td>409234</td>\n",
       "      <td>421603</td>\n",
       "      <td>252776</td>\n",
       "      <td>249202</td>\n",
       "      <td>423867</td>\n",
       "      <td>422480.00</td>\n",
       "      <td>418638</td>\n",
       "      <td>424324</td>\n",
       "      <td>296313</td>\n",
       "      <td>334022</td>\n",
       "      <td>296677</td>\n",
       "      <td>420331.00</td>\n",
       "      <td>420331.00</td>\n",
       "    </tr>\n",
       "    <tr>\n",
       "      <th>unique</th>\n",
       "      <td>nan</td>\n",
       "      <td>nan</td>\n",
       "      <td>42</td>\n",
       "      <td>29667</td>\n",
       "      <td>6</td>\n",
       "      <td>8</td>\n",
       "      <td>5</td>\n",
       "      <td>nan</td>\n",
       "      <td>6</td>\n",
       "      <td>3</td>\n",
       "      <td>3</td>\n",
       "      <td>13</td>\n",
       "      <td>12</td>\n",
       "      <td>nan</td>\n",
       "      <td>nan</td>\n",
       "    </tr>\n",
       "    <tr>\n",
       "      <th>top</th>\n",
       "      <td>nan</td>\n",
       "      <td>nan</td>\n",
       "      <td>ford</td>\n",
       "      <td>f-150</td>\n",
       "      <td>good</td>\n",
       "      <td>6 cylinders</td>\n",
       "      <td>gas</td>\n",
       "      <td>nan</td>\n",
       "      <td>clean</td>\n",
       "      <td>automatic</td>\n",
       "      <td>4wd</td>\n",
       "      <td>sedan</td>\n",
       "      <td>white</td>\n",
       "      <td>nan</td>\n",
       "      <td>nan</td>\n",
       "    </tr>\n",
       "    <tr>\n",
       "      <th>freq</th>\n",
       "      <td>nan</td>\n",
       "      <td>nan</td>\n",
       "      <td>70985</td>\n",
       "      <td>8009</td>\n",
       "      <td>121456</td>\n",
       "      <td>94169</td>\n",
       "      <td>356209</td>\n",
       "      <td>nan</td>\n",
       "      <td>405117</td>\n",
       "      <td>336524</td>\n",
       "      <td>131904</td>\n",
       "      <td>87056</td>\n",
       "      <td>79285</td>\n",
       "      <td>nan</td>\n",
       "      <td>nan</td>\n",
       "    </tr>\n",
       "    <tr>\n",
       "      <th>mean</th>\n",
       "      <td>75199.03</td>\n",
       "      <td>2011.24</td>\n",
       "      <td>NaN</td>\n",
       "      <td>NaN</td>\n",
       "      <td>NaN</td>\n",
       "      <td>NaN</td>\n",
       "      <td>NaN</td>\n",
       "      <td>98043.33</td>\n",
       "      <td>NaN</td>\n",
       "      <td>NaN</td>\n",
       "      <td>NaN</td>\n",
       "      <td>NaN</td>\n",
       "      <td>NaN</td>\n",
       "      <td>38.49</td>\n",
       "      <td>-94.75</td>\n",
       "    </tr>\n",
       "    <tr>\n",
       "      <th>std</th>\n",
       "      <td>12182282.17</td>\n",
       "      <td>9.45</td>\n",
       "      <td>NaN</td>\n",
       "      <td>NaN</td>\n",
       "      <td>NaN</td>\n",
       "      <td>NaN</td>\n",
       "      <td>NaN</td>\n",
       "      <td>213881.50</td>\n",
       "      <td>NaN</td>\n",
       "      <td>NaN</td>\n",
       "      <td>NaN</td>\n",
       "      <td>NaN</td>\n",
       "      <td>NaN</td>\n",
       "      <td>5.84</td>\n",
       "      <td>18.37</td>\n",
       "    </tr>\n",
       "    <tr>\n",
       "      <th>min</th>\n",
       "      <td>0.00</td>\n",
       "      <td>1900.00</td>\n",
       "      <td>NaN</td>\n",
       "      <td>NaN</td>\n",
       "      <td>NaN</td>\n",
       "      <td>NaN</td>\n",
       "      <td>NaN</td>\n",
       "      <td>0.00</td>\n",
       "      <td>NaN</td>\n",
       "      <td>NaN</td>\n",
       "      <td>NaN</td>\n",
       "      <td>NaN</td>\n",
       "      <td>NaN</td>\n",
       "      <td>-84.12</td>\n",
       "      <td>-159.83</td>\n",
       "    </tr>\n",
       "    <tr>\n",
       "      <th>25%</th>\n",
       "      <td>5900.00</td>\n",
       "      <td>2008.00</td>\n",
       "      <td>NaN</td>\n",
       "      <td>NaN</td>\n",
       "      <td>NaN</td>\n",
       "      <td>NaN</td>\n",
       "      <td>NaN</td>\n",
       "      <td>37704.00</td>\n",
       "      <td>NaN</td>\n",
       "      <td>NaN</td>\n",
       "      <td>NaN</td>\n",
       "      <td>NaN</td>\n",
       "      <td>NaN</td>\n",
       "      <td>34.60</td>\n",
       "      <td>-111.94</td>\n",
       "    </tr>\n",
       "    <tr>\n",
       "      <th>50%</th>\n",
       "      <td>13950.00</td>\n",
       "      <td>2013.00</td>\n",
       "      <td>NaN</td>\n",
       "      <td>NaN</td>\n",
       "      <td>NaN</td>\n",
       "      <td>NaN</td>\n",
       "      <td>NaN</td>\n",
       "      <td>85548.00</td>\n",
       "      <td>NaN</td>\n",
       "      <td>NaN</td>\n",
       "      <td>NaN</td>\n",
       "      <td>NaN</td>\n",
       "      <td>NaN</td>\n",
       "      <td>39.15</td>\n",
       "      <td>-88.43</td>\n",
       "    </tr>\n",
       "    <tr>\n",
       "      <th>75%</th>\n",
       "      <td>26485.75</td>\n",
       "      <td>2017.00</td>\n",
       "      <td>NaN</td>\n",
       "      <td>NaN</td>\n",
       "      <td>NaN</td>\n",
       "      <td>NaN</td>\n",
       "      <td>NaN</td>\n",
       "      <td>133542.50</td>\n",
       "      <td>NaN</td>\n",
       "      <td>NaN</td>\n",
       "      <td>NaN</td>\n",
       "      <td>NaN</td>\n",
       "      <td>NaN</td>\n",
       "      <td>42.40</td>\n",
       "      <td>-80.83</td>\n",
       "    </tr>\n",
       "    <tr>\n",
       "      <th>max</th>\n",
       "      <td>3736928711.00</td>\n",
       "      <td>2022.00</td>\n",
       "      <td>NaN</td>\n",
       "      <td>NaN</td>\n",
       "      <td>NaN</td>\n",
       "      <td>NaN</td>\n",
       "      <td>NaN</td>\n",
       "      <td>10000000.00</td>\n",
       "      <td>NaN</td>\n",
       "      <td>NaN</td>\n",
       "      <td>NaN</td>\n",
       "      <td>NaN</td>\n",
       "      <td>NaN</td>\n",
       "      <td>82.39</td>\n",
       "      <td>173.89</td>\n",
       "    </tr>\n",
       "  </tbody>\n",
       "</table>\n",
       "</div>"
      ],
      "text/plain": [
       "               price      year manufacturer   model condition    cylinders  \\\n",
       "count      426880.00 425675.00       409234  421603    252776       249202   \n",
       "unique           nan       nan           42   29667         6            8   \n",
       "top              nan       nan         ford   f-150      good  6 cylinders   \n",
       "freq             nan       nan        70985    8009    121456        94169   \n",
       "mean        75199.03   2011.24          NaN     NaN       NaN          NaN   \n",
       "std      12182282.17      9.45          NaN     NaN       NaN          NaN   \n",
       "min             0.00   1900.00          NaN     NaN       NaN          NaN   \n",
       "25%          5900.00   2008.00          NaN     NaN       NaN          NaN   \n",
       "50%         13950.00   2013.00          NaN     NaN       NaN          NaN   \n",
       "75%         26485.75   2017.00          NaN     NaN       NaN          NaN   \n",
       "max    3736928711.00   2022.00          NaN     NaN       NaN          NaN   \n",
       "\n",
       "          fuel    odometer title_status transmission   drive    type  \\\n",
       "count   423867   422480.00       418638       424324  296313  334022   \n",
       "unique       5         nan            6            3       3      13   \n",
       "top        gas         nan        clean    automatic     4wd   sedan   \n",
       "freq    356209         nan       405117       336524  131904   87056   \n",
       "mean       NaN    98043.33          NaN          NaN     NaN     NaN   \n",
       "std        NaN   213881.50          NaN          NaN     NaN     NaN   \n",
       "min        NaN        0.00          NaN          NaN     NaN     NaN   \n",
       "25%        NaN    37704.00          NaN          NaN     NaN     NaN   \n",
       "50%        NaN    85548.00          NaN          NaN     NaN     NaN   \n",
       "75%        NaN   133542.50          NaN          NaN     NaN     NaN   \n",
       "max        NaN 10000000.00          NaN          NaN     NaN     NaN   \n",
       "\n",
       "       paint_color       lat      long  \n",
       "count       296677 420331.00 420331.00  \n",
       "unique          12       nan       nan  \n",
       "top          white       nan       nan  \n",
       "freq         79285       nan       nan  \n",
       "mean           NaN     38.49    -94.75  \n",
       "std            NaN      5.84     18.37  \n",
       "min            NaN    -84.12   -159.83  \n",
       "25%            NaN     34.60   -111.94  \n",
       "50%            NaN     39.15    -88.43  \n",
       "75%            NaN     42.40    -80.83  \n",
       "max            NaN     82.39    173.89  "
      ]
     },
     "execution_count": 22,
     "metadata": {},
     "output_type": "execute_result"
    }
   ],
   "source": [
    "workingDataset.describe(include='all')"
   ]
  },
  {
   "cell_type": "markdown",
   "metadata": {},
   "source": [
    "Model has almost 30,000 unique values which makes it very hard to use in actual model training. For now I will remove it but come back to it and perhaps clean is up if possible to reduce the number of categories. Truth be told I don't believe model to be that useful after all because I have type, drive, cylinders, and manufacturer. The same goes for the color of the car. Having been on craigslist usually cars that are marked as zero are not actually free or anything so to avoid bias and misinformation I am going to remove all cars with a zero price tag. "
   ]
  },
  {
   "cell_type": "code",
   "execution_count": 23,
   "metadata": {},
   "outputs": [
    {
     "name": "stdout",
     "output_type": "stream",
     "text": [
      "(426880, 15)\n",
      "(426880, 13)\n"
     ]
    }
   ],
   "source": [
    "print(workingDataset.shape)\n",
    "workingDataset = workingDataset.drop(['model','paint_color'], axis=1)\n",
    "print(workingDataset.shape)"
   ]
  },
  {
   "cell_type": "code",
   "execution_count": 24,
   "metadata": {},
   "outputs": [],
   "source": [
    "workingDataset = workingDataset[(workingDataset['price'] != 0)]"
   ]
  },
  {
   "cell_type": "code",
   "execution_count": 25,
   "metadata": {},
   "outputs": [
    {
     "data": {
      "text/plain": [
       "(393985, 13)"
      ]
     },
     "execution_count": 25,
     "metadata": {},
     "output_type": "execute_result"
    }
   ],
   "source": [
    "workingDataset.shape"
   ]
  },
  {
   "cell_type": "markdown",
   "metadata": {},
   "source": [
    "#### Get rid of rows with more than half of its attributes missing"
   ]
  },
  {
   "cell_type": "code",
   "execution_count": 26,
   "metadata": {},
   "outputs": [
    {
     "name": "stdout",
     "output_type": "stream",
     "text": [
      "(393985, 13)\n",
      "(349406, 13)\n"
     ]
    }
   ],
   "source": [
    "#Only keep rows that have at least 10 of the 13 possible attributes\n",
    "print(workingDataset.shape)\n",
    "workingDataset = workingDataset.dropna(thresh=10)\n",
    "print(workingDataset.shape)"
   ]
  },
  {
   "cell_type": "code",
   "execution_count": 27,
   "metadata": {},
   "outputs": [
    {
     "data": {
      "text/plain": [
       "cylinders      0.33\n",
       "condition      0.31\n",
       "drive          0.22\n",
       "type           0.12\n",
       "manufacturer   0.03\n",
       "title_status   0.02\n",
       "long           0.01\n",
       "lat            0.01\n",
       "odometer       0.01\n",
       "fuel           0.00\n",
       "transmission   0.00\n",
       "year           0.00\n",
       "price          0.00\n",
       "dtype: float64"
      ]
     },
     "execution_count": 27,
     "metadata": {},
     "output_type": "execute_result"
    }
   ],
   "source": [
    "workingDataset.isna().mean().sort_values(ascending=False)"
   ]
  },
  {
   "cell_type": "code",
   "execution_count": 28,
   "metadata": {},
   "outputs": [
    {
     "data": {
      "text/plain": [
       "cylinders       116686\n",
       "condition       107905\n",
       "drive            76914\n",
       "type             43629\n",
       "manufacturer     11170\n",
       "title_status      6480\n",
       "long              2927\n",
       "lat               2927\n",
       "odometer          1760\n",
       "fuel              1334\n",
       "transmission       967\n",
       "year               545\n",
       "price                0\n",
       "dtype: int64"
      ]
     },
     "execution_count": 28,
     "metadata": {},
     "output_type": "execute_result"
    }
   ],
   "source": [
    "workingDataset.isna().sum().sort_values(ascending=False)"
   ]
  },
  {
   "cell_type": "markdown",
   "metadata": {},
   "source": [
    "### Ordinal Encoding"
   ]
  },
  {
   "cell_type": "code",
   "execution_count": 29,
   "metadata": {},
   "outputs": [],
   "source": [
    "#Doesn't do anything to NaN's (COnvert to categorical then impute then convert back.)\n",
    "cleanup_nums = {\"condition\": {\"salvage\": 1, \"fair\": 2,\"good\": 3, \"like new\": 4, \"excellent\": 5, \"new\": 6},\n",
    "               \"cylinders\": {\"other\": 1, \"3 cylinders\": 2,\"4 cylinders\": 3, \"5 cylinders\": 4, \"6 cylinders\": 5, \"8 cylinders\": 6,\"10 cylinders\": 7, \"12 cylinders\": 8}}\n",
    "imputing_nums = {\"manufacturer\": {\"gmc\": 1, \"chevrolet\": 2,\"toyota\": 3, \"ford\": 4, \"jeep\": 5, \"nissan\": 6, \"ram\": 7,\"mazda\": 8, \"cadillac\": 9, \"honda\": 10, \"dodge\":11, \"lexus\": 12, \"jaguar\": 13, \"buick\": 14, \"chrysler\": 15, \"volvo\": 16, \"audi\": 17, \"infiniti\": 18, \"lincoln\": 19, \"alfa-romeo\": 20, \"subaru\": 21, \"acura\": 22, \"hyundai\": 23,\"mercedes-benz\": 24, \"bmw\": 25, \"mitsubishi\": 26, \"volkswagen\": 27, \"porsche\":28, \"kia\": 29, \"rover\": 30, \"ferrari\": 31, \"mini\": 32, \"pontiac\": 33, \"fiat\": 34, \"tesla\": 35, \"saturn\": 36, \"mercury\": 37, \"harley-davidson\": 38, \"datsun\": 39, \"aston-martin\": 40, \"land rover\":41, \"morgan\": 42},\n",
    "                \"fuel\": {\"gas\": 1, \"other\": 2,\"diesel\": 3, \"hybrid\": 4, \"electric\": 5},\n",
    "                \"title_status\": {\"clean\":1, \"rebuilt\":2, \"salvage\":3, \"lien\":4, \"missing\":5, \"parts only\": 6},\n",
    "                \"transmission\": {\"automatic\": 1, \"other\": 2,\"manual\": 3},\n",
    "                \"drive\": {\"4wd\": 1, \"fwd\": 2,\"rwd\": 3},\n",
    "                \"type\": {\"sedan\": 1, \"SUV\": 2,\"pickup\": 3, \"truck\": 4, \"other\": 5, \"coupe\": 6, \"hatchback\": 7,\"wagon\": 8, \"van\": 9, \"convertible\": 10, \"mini-van\":11, \"offroad\": 12, \"bus\": 13}}"
   ]
  },
  {
   "cell_type": "code",
   "execution_count": 30,
   "metadata": {},
   "outputs": [],
   "source": [
    "workingDataset = workingDataset.replace(cleanup_nums)"
   ]
  },
  {
   "cell_type": "code",
   "execution_count": 31,
   "metadata": {},
   "outputs": [],
   "source": [
    "workingDataset = workingDataset.replace(imputing_nums)"
   ]
  },
  {
   "cell_type": "code",
   "execution_count": 32,
   "metadata": {},
   "outputs": [
    {
     "name": "stdout",
     "output_type": "stream",
     "text": [
      "<class 'pandas.core.frame.DataFrame'>\n",
      "Int64Index: 349406 entries, 27 to 426879\n",
      "Data columns (total 13 columns):\n",
      " #   Column        Non-Null Count   Dtype  \n",
      "---  ------        --------------   -----  \n",
      " 0   price         349406 non-null  int64  \n",
      " 1   year          348861 non-null  float64\n",
      " 2   manufacturer  338236 non-null  float64\n",
      " 3   condition     241501 non-null  float64\n",
      " 4   cylinders     232720 non-null  float64\n",
      " 5   fuel          348072 non-null  float64\n",
      " 6   odometer      347646 non-null  float64\n",
      " 7   title_status  342926 non-null  float64\n",
      " 8   transmission  348439 non-null  float64\n",
      " 9   drive         272492 non-null  float64\n",
      " 10  type          305777 non-null  float64\n",
      " 11  lat           346479 non-null  float64\n",
      " 12  long          346479 non-null  float64\n",
      "dtypes: float64(12), int64(1)\n",
      "memory usage: 37.3 MB\n"
     ]
    }
   ],
   "source": [
    "workingDataset.info()"
   ]
  },
  {
   "cell_type": "markdown",
   "metadata": {},
   "source": [
    "### Imputing missing values with iterative imputer"
   ]
  },
  {
   "cell_type": "code",
   "execution_count": 33,
   "metadata": {},
   "outputs": [],
   "source": [
    "imp_mode = IterativeImputer(initial_strategy = 'most_frequent',random_state=0, min_value = [0,1900,1,1,1,1,0,1,1,1,1,-84.12,-159.83], max_value = [30000000,2022,42,6,8,5,10000000,6,3,3,13,82.25,173.89])"
   ]
  },
  {
   "cell_type": "code",
   "execution_count": 34,
   "metadata": {},
   "outputs": [],
   "source": [
    "imputedData = pd.DataFrame(imp_mode.fit_transform(workingDataset),columns = workingDataset.columns)"
   ]
  },
  {
   "cell_type": "code",
   "execution_count": 35,
   "metadata": {},
   "outputs": [],
   "source": [
    "imputedData = imputedData.round({'price': 0, 'year': 0, 'manufacturer': 0, 'condition': 0, 'cylinders': 0, 'fuel': 0, 'odometer': 0, 'title_status': 0, 'transmission': 0, 'drive': 0, 'type': 0, 'lat': 2, 'long': 2})"
   ]
  },
  {
   "cell_type": "code",
   "execution_count": 36,
   "metadata": {},
   "outputs": [
    {
     "data": {
      "text/plain": [
       "long           0.00\n",
       "lat            0.00\n",
       "type           0.00\n",
       "drive          0.00\n",
       "transmission   0.00\n",
       "title_status   0.00\n",
       "odometer       0.00\n",
       "fuel           0.00\n",
       "cylinders      0.00\n",
       "condition      0.00\n",
       "manufacturer   0.00\n",
       "year           0.00\n",
       "price          0.00\n",
       "dtype: float64"
      ]
     },
     "execution_count": 36,
     "metadata": {},
     "output_type": "execute_result"
    }
   ],
   "source": [
    "imputedData.isna().mean().sort_values(ascending=False)"
   ]
  },
  {
   "cell_type": "code",
   "execution_count": 37,
   "metadata": {},
   "outputs": [
    {
     "data": {
      "text/plain": [
       "long            0\n",
       "lat             0\n",
       "type            0\n",
       "drive           0\n",
       "transmission    0\n",
       "title_status    0\n",
       "odometer        0\n",
       "fuel            0\n",
       "cylinders       0\n",
       "condition       0\n",
       "manufacturer    0\n",
       "year            0\n",
       "price           0\n",
       "dtype: int64"
      ]
     },
     "execution_count": 37,
     "metadata": {},
     "output_type": "execute_result"
    }
   ],
   "source": [
    "imputedData.isna().sum().sort_values(ascending=False)"
   ]
  },
  {
   "cell_type": "code",
   "execution_count": 38,
   "metadata": {},
   "outputs": [
    {
     "name": "stdout",
     "output_type": "stream",
     "text": [
      "<class 'pandas.core.frame.DataFrame'>\n",
      "RangeIndex: 349406 entries, 0 to 349405\n",
      "Data columns (total 13 columns):\n",
      " #   Column        Non-Null Count   Dtype  \n",
      "---  ------        --------------   -----  \n",
      " 0   price         349406 non-null  float64\n",
      " 1   year          349406 non-null  float64\n",
      " 2   manufacturer  349406 non-null  float64\n",
      " 3   condition     349406 non-null  float64\n",
      " 4   cylinders     349406 non-null  float64\n",
      " 5   fuel          349406 non-null  float64\n",
      " 6   odometer      349406 non-null  float64\n",
      " 7   title_status  349406 non-null  float64\n",
      " 8   transmission  349406 non-null  float64\n",
      " 9   drive         349406 non-null  float64\n",
      " 10  type          349406 non-null  float64\n",
      " 11  lat           349406 non-null  float64\n",
      " 12  long          349406 non-null  float64\n",
      "dtypes: float64(13)\n",
      "memory usage: 34.7 MB\n"
     ]
    }
   ],
   "source": [
    "imputedData.info()"
   ]
  },
  {
   "cell_type": "code",
   "execution_count": 39,
   "metadata": {},
   "outputs": [
    {
     "data": {
      "text/html": [
       "<div>\n",
       "<style scoped>\n",
       "    .dataframe tbody tr th:only-of-type {\n",
       "        vertical-align: middle;\n",
       "    }\n",
       "\n",
       "    .dataframe tbody tr th {\n",
       "        vertical-align: top;\n",
       "    }\n",
       "\n",
       "    .dataframe thead th {\n",
       "        text-align: right;\n",
       "    }\n",
       "</style>\n",
       "<table border=\"1\" class=\"dataframe\">\n",
       "  <thead>\n",
       "    <tr style=\"text-align: right;\">\n",
       "      <th></th>\n",
       "      <th>price</th>\n",
       "      <th>year</th>\n",
       "      <th>manufacturer</th>\n",
       "      <th>condition</th>\n",
       "      <th>cylinders</th>\n",
       "      <th>fuel</th>\n",
       "      <th>odometer</th>\n",
       "      <th>title_status</th>\n",
       "      <th>transmission</th>\n",
       "      <th>drive</th>\n",
       "      <th>type</th>\n",
       "      <th>lat</th>\n",
       "      <th>long</th>\n",
       "    </tr>\n",
       "  </thead>\n",
       "  <tbody>\n",
       "    <tr>\n",
       "      <th>count</th>\n",
       "      <td>349406.00</td>\n",
       "      <td>349406.00</td>\n",
       "      <td>349406.00</td>\n",
       "      <td>349406.00</td>\n",
       "      <td>349406.00</td>\n",
       "      <td>349406.00</td>\n",
       "      <td>349406.00</td>\n",
       "      <td>349406.00</td>\n",
       "      <td>349406.00</td>\n",
       "      <td>349406.00</td>\n",
       "      <td>349406.00</td>\n",
       "      <td>349406.00</td>\n",
       "      <td>349406.00</td>\n",
       "    </tr>\n",
       "    <tr>\n",
       "      <th>mean</th>\n",
       "      <td>65786.62</td>\n",
       "      <td>2011.35</td>\n",
       "      <td>10.40</td>\n",
       "      <td>3.88</td>\n",
       "      <td>4.64</td>\n",
       "      <td>1.26</td>\n",
       "      <td>94594.88</td>\n",
       "      <td>1.06</td>\n",
       "      <td>1.29</td>\n",
       "      <td>1.80</td>\n",
       "      <td>3.49</td>\n",
       "      <td>38.55</td>\n",
       "      <td>-94.72</td>\n",
       "    </tr>\n",
       "    <tr>\n",
       "      <th>std</th>\n",
       "      <td>11101686.46</td>\n",
       "      <td>9.17</td>\n",
       "      <td>9.04</td>\n",
       "      <td>0.85</td>\n",
       "      <td>1.05</td>\n",
       "      <td>0.66</td>\n",
       "      <td>172855.16</td>\n",
       "      <td>0.35</td>\n",
       "      <td>0.57</td>\n",
       "      <td>0.69</td>\n",
       "      <td>2.48</td>\n",
       "      <td>5.85</td>\n",
       "      <td>18.31</td>\n",
       "    </tr>\n",
       "    <tr>\n",
       "      <th>min</th>\n",
       "      <td>1.00</td>\n",
       "      <td>1900.00</td>\n",
       "      <td>1.00</td>\n",
       "      <td>1.00</td>\n",
       "      <td>1.00</td>\n",
       "      <td>1.00</td>\n",
       "      <td>0.00</td>\n",
       "      <td>1.00</td>\n",
       "      <td>1.00</td>\n",
       "      <td>1.00</td>\n",
       "      <td>1.00</td>\n",
       "      <td>-84.12</td>\n",
       "      <td>-159.83</td>\n",
       "    </tr>\n",
       "    <tr>\n",
       "      <th>25%</th>\n",
       "      <td>7770.00</td>\n",
       "      <td>2008.00</td>\n",
       "      <td>4.00</td>\n",
       "      <td>3.00</td>\n",
       "      <td>4.00</td>\n",
       "      <td>1.00</td>\n",
       "      <td>36415.50</td>\n",
       "      <td>1.00</td>\n",
       "      <td>1.00</td>\n",
       "      <td>1.00</td>\n",
       "      <td>2.00</td>\n",
       "      <td>34.74</td>\n",
       "      <td>-111.93</td>\n",
       "    </tr>\n",
       "    <tr>\n",
       "      <th>50%</th>\n",
       "      <td>15990.00</td>\n",
       "      <td>2014.00</td>\n",
       "      <td>6.00</td>\n",
       "      <td>4.00</td>\n",
       "      <td>5.00</td>\n",
       "      <td>1.00</td>\n",
       "      <td>83957.00</td>\n",
       "      <td>1.00</td>\n",
       "      <td>1.00</td>\n",
       "      <td>2.00</td>\n",
       "      <td>3.00</td>\n",
       "      <td>39.17</td>\n",
       "      <td>-88.26</td>\n",
       "    </tr>\n",
       "    <tr>\n",
       "      <th>75%</th>\n",
       "      <td>27990.00</td>\n",
       "      <td>2017.00</td>\n",
       "      <td>17.00</td>\n",
       "      <td>5.00</td>\n",
       "      <td>5.00</td>\n",
       "      <td>1.00</td>\n",
       "      <td>132000.00</td>\n",
       "      <td>1.00</td>\n",
       "      <td>1.00</td>\n",
       "      <td>2.00</td>\n",
       "      <td>5.00</td>\n",
       "      <td>42.36</td>\n",
       "      <td>-80.98</td>\n",
       "    </tr>\n",
       "    <tr>\n",
       "      <th>max</th>\n",
       "      <td>3736928711.00</td>\n",
       "      <td>2022.00</td>\n",
       "      <td>42.00</td>\n",
       "      <td>6.00</td>\n",
       "      <td>8.00</td>\n",
       "      <td>5.00</td>\n",
       "      <td>10000000.00</td>\n",
       "      <td>6.00</td>\n",
       "      <td>3.00</td>\n",
       "      <td>3.00</td>\n",
       "      <td>13.00</td>\n",
       "      <td>82.25</td>\n",
       "      <td>173.89</td>\n",
       "    </tr>\n",
       "  </tbody>\n",
       "</table>\n",
       "</div>"
      ],
      "text/plain": [
       "              price      year  manufacturer  condition  cylinders      fuel  \\\n",
       "count     349406.00 349406.00     349406.00  349406.00  349406.00 349406.00   \n",
       "mean       65786.62   2011.35         10.40       3.88       4.64      1.26   \n",
       "std     11101686.46      9.17          9.04       0.85       1.05      0.66   \n",
       "min            1.00   1900.00          1.00       1.00       1.00      1.00   \n",
       "25%         7770.00   2008.00          4.00       3.00       4.00      1.00   \n",
       "50%        15990.00   2014.00          6.00       4.00       5.00      1.00   \n",
       "75%        27990.00   2017.00         17.00       5.00       5.00      1.00   \n",
       "max   3736928711.00   2022.00         42.00       6.00       8.00      5.00   \n",
       "\n",
       "         odometer  title_status  transmission     drive      type       lat  \\\n",
       "count   349406.00     349406.00     349406.00 349406.00 349406.00 349406.00   \n",
       "mean     94594.88          1.06          1.29      1.80      3.49     38.55   \n",
       "std     172855.16          0.35          0.57      0.69      2.48      5.85   \n",
       "min          0.00          1.00          1.00      1.00      1.00    -84.12   \n",
       "25%      36415.50          1.00          1.00      1.00      2.00     34.74   \n",
       "50%      83957.00          1.00          1.00      2.00      3.00     39.17   \n",
       "75%     132000.00          1.00          1.00      2.00      5.00     42.36   \n",
       "max   10000000.00          6.00          3.00      3.00     13.00     82.25   \n",
       "\n",
       "           long  \n",
       "count 349406.00  \n",
       "mean     -94.72  \n",
       "std       18.31  \n",
       "min     -159.83  \n",
       "25%     -111.93  \n",
       "50%      -88.26  \n",
       "75%      -80.98  \n",
       "max      173.89  "
      ]
     },
     "execution_count": 39,
     "metadata": {},
     "output_type": "execute_result"
    }
   ],
   "source": [
    "imputedData.describe()"
   ]
  },
  {
   "cell_type": "code",
   "execution_count": 40,
   "metadata": {},
   "outputs": [],
   "source": [
    "#Convert price to original data type\n",
    "convert_dict = {'price': float,\n",
    "                'year': int,\n",
    "                'manufacturer': int,\n",
    "                'condition' : int,\n",
    "                'cylinders' : int,\n",
    "                'fuel': int,\n",
    "                'odometer': int,\n",
    "                'title_status' : int,\n",
    "                'transmission' : int,\n",
    "                'drive' : int,\n",
    "                'type' : int,\n",
    "                'lat' : float,\n",
    "                'long' : float}  \n",
    "  \n",
    "imputedData = imputedData.astype(convert_dict)  "
   ]
  },
  {
   "cell_type": "code",
   "execution_count": 41,
   "metadata": {},
   "outputs": [
    {
     "data": {
      "text/html": [
       "<div>\n",
       "<style scoped>\n",
       "    .dataframe tbody tr th:only-of-type {\n",
       "        vertical-align: middle;\n",
       "    }\n",
       "\n",
       "    .dataframe tbody tr th {\n",
       "        vertical-align: top;\n",
       "    }\n",
       "\n",
       "    .dataframe thead th {\n",
       "        text-align: right;\n",
       "    }\n",
       "</style>\n",
       "<table border=\"1\" class=\"dataframe\">\n",
       "  <thead>\n",
       "    <tr style=\"text-align: right;\">\n",
       "      <th></th>\n",
       "      <th>price</th>\n",
       "      <th>year</th>\n",
       "      <th>manufacturer</th>\n",
       "      <th>condition</th>\n",
       "      <th>cylinders</th>\n",
       "      <th>fuel</th>\n",
       "      <th>odometer</th>\n",
       "      <th>title_status</th>\n",
       "      <th>transmission</th>\n",
       "      <th>drive</th>\n",
       "      <th>type</th>\n",
       "      <th>lat</th>\n",
       "      <th>long</th>\n",
       "    </tr>\n",
       "  </thead>\n",
       "  <tbody>\n",
       "    <tr>\n",
       "      <th>0</th>\n",
       "      <td>33590.00</td>\n",
       "      <td>2014</td>\n",
       "      <td>1</td>\n",
       "      <td>3</td>\n",
       "      <td>6</td>\n",
       "      <td>1</td>\n",
       "      <td>57923</td>\n",
       "      <td>1</td>\n",
       "      <td>2</td>\n",
       "      <td>2</td>\n",
       "      <td>3</td>\n",
       "      <td>32.59</td>\n",
       "      <td>-85.48</td>\n",
       "    </tr>\n",
       "    <tr>\n",
       "      <th>1</th>\n",
       "      <td>22590.00</td>\n",
       "      <td>2010</td>\n",
       "      <td>2</td>\n",
       "      <td>3</td>\n",
       "      <td>6</td>\n",
       "      <td>1</td>\n",
       "      <td>71229</td>\n",
       "      <td>1</td>\n",
       "      <td>2</td>\n",
       "      <td>2</td>\n",
       "      <td>3</td>\n",
       "      <td>32.59</td>\n",
       "      <td>-85.48</td>\n",
       "    </tr>\n",
       "    <tr>\n",
       "      <th>2</th>\n",
       "      <td>39590.00</td>\n",
       "      <td>2020</td>\n",
       "      <td>2</td>\n",
       "      <td>3</td>\n",
       "      <td>6</td>\n",
       "      <td>1</td>\n",
       "      <td>19160</td>\n",
       "      <td>1</td>\n",
       "      <td>2</td>\n",
       "      <td>2</td>\n",
       "      <td>3</td>\n",
       "      <td>32.59</td>\n",
       "      <td>-85.48</td>\n",
       "    </tr>\n",
       "    <tr>\n",
       "      <th>3</th>\n",
       "      <td>30990.00</td>\n",
       "      <td>2017</td>\n",
       "      <td>3</td>\n",
       "      <td>3</td>\n",
       "      <td>6</td>\n",
       "      <td>1</td>\n",
       "      <td>41124</td>\n",
       "      <td>1</td>\n",
       "      <td>2</td>\n",
       "      <td>2</td>\n",
       "      <td>3</td>\n",
       "      <td>32.59</td>\n",
       "      <td>-85.48</td>\n",
       "    </tr>\n",
       "    <tr>\n",
       "      <th>4</th>\n",
       "      <td>15000.00</td>\n",
       "      <td>2013</td>\n",
       "      <td>4</td>\n",
       "      <td>5</td>\n",
       "      <td>5</td>\n",
       "      <td>1</td>\n",
       "      <td>128000</td>\n",
       "      <td>1</td>\n",
       "      <td>1</td>\n",
       "      <td>3</td>\n",
       "      <td>4</td>\n",
       "      <td>32.59</td>\n",
       "      <td>-85.52</td>\n",
       "    </tr>\n",
       "  </tbody>\n",
       "</table>\n",
       "</div>"
      ],
      "text/plain": [
       "     price  year  manufacturer  condition  cylinders  fuel  odometer  \\\n",
       "0 33590.00  2014             1          3          6     1     57923   \n",
       "1 22590.00  2010             2          3          6     1     71229   \n",
       "2 39590.00  2020             2          3          6     1     19160   \n",
       "3 30990.00  2017             3          3          6     1     41124   \n",
       "4 15000.00  2013             4          5          5     1    128000   \n",
       "\n",
       "   title_status  transmission  drive  type   lat   long  \n",
       "0             1             2      2     3 32.59 -85.48  \n",
       "1             1             2      2     3 32.59 -85.48  \n",
       "2             1             2      2     3 32.59 -85.48  \n",
       "3             1             2      2     3 32.59 -85.48  \n",
       "4             1             1      3     4 32.59 -85.52  "
      ]
     },
     "execution_count": 41,
     "metadata": {},
     "output_type": "execute_result"
    }
   ],
   "source": [
    "imputedData.head()"
   ]
  },
  {
   "cell_type": "code",
   "execution_count": 42,
   "metadata": {},
   "outputs": [],
   "source": [
    "imputing_nums_reverse = {\"manufacturer\": {1:\"gmc\" , 2:\"chevrolet\" , 3:\"toyota\" , 4:\"ford\" , 5:\"jeep\" , 6:\"nissan\" , 7:\"ram\" , 8:\"mazda\" , 9:\"cadillac\" , 10:\"honda\" , 11:\"dodge\" , 12:\"lexus\" , 13:\"jaguar\" , 14:\"buick\" , 15:\"chrysler\" , 16:\"volvo\" , 17:\"audi\" , 18:\"infiniti\" , 19:\"lincoln\" , 20:\"alfa-romeo\" , 21:\"subaru\" , 22:\"acura\" , 23:\"hyundai\" , 24:\"mercedes-benz\" , 25:\"bmw\" , 26:\"mitsubishi\" , 27:\"volkswagen\" , 28:\"porsche\" , 29:\"kia\" , 30:\"rover\" , 31:\"ferrari\" , 32:\"mini\" , 33:\"pontiac\" , 34:\"fiat\" , 35:\"tesla\" , 36:\"saturn\" , 37:\"mercury\" , 38:\"harley-davidson\" , 39:\"datsun\" , 40:\"aston-martin\" , 41:\"land rover\" , 42:\"morgan\"},\n",
    "                \"fuel\": {1:\"gas\" , 2:\"other\" , 3:\"diesel\" , 4:\"hybrid\" , 5:\"electric\"},\n",
    "                \"title_status\": {1:\"clean\" , 2:\"rebuilt\" , 3:\"salvage\" , 4:\"lien\" , 5:\"missing\" , 6:\"parts only\"},\n",
    "                \"transmission\": {1:\"automatic\" , 2:\"other\" , 3:\"manual\"},\n",
    "                \"drive\": {1:\"4wd\" , 2:\"fwd\" , 3:\"rwd\"},\n",
    "                \"type\": {1:\"sedan\" , 2:\"SUV\" , 3:\"pickup\" , 4:\"truck\" , 5:\"other\" , 6:\"coupe\" , 7:\"hatchback\" , 8:\"wagon\" , 9:\"van\" , 10:\"convertible\" , 11:\"mini-van\", 12:\"offroad\" , 13:\"bus\"}}"
   ]
  },
  {
   "cell_type": "code",
   "execution_count": 43,
   "metadata": {},
   "outputs": [],
   "source": [
    "imputedData = imputedData.replace(imputing_nums_reverse)"
   ]
  },
  {
   "cell_type": "markdown",
   "metadata": {},
   "source": [
    "### One Hot Encoding"
   ]
  },
  {
   "cell_type": "code",
   "execution_count": 44,
   "metadata": {},
   "outputs": [],
   "source": [
    "imputedData = pd.get_dummies(imputedData, columns=['manufacturer','fuel','title_status','transmission','drive','type'], prefix=['manufacturer','fuel','title_status','transmission','drive','type'])"
   ]
  },
  {
   "cell_type": "markdown",
   "metadata": {},
   "source": [
    "### Cont. Cleaning"
   ]
  },
  {
   "cell_type": "code",
   "execution_count": 45,
   "metadata": {},
   "outputs": [
    {
     "name": "stdout",
     "output_type": "stream",
     "text": [
      "<class 'pandas.core.frame.DataFrame'>\n",
      "RangeIndex: 349406 entries, 0 to 349405\n",
      "Data columns (total 79 columns):\n",
      " #   Column                        Non-Null Count   Dtype  \n",
      "---  ------                        --------------   -----  \n",
      " 0   price                         349406 non-null  float64\n",
      " 1   year                          349406 non-null  int32  \n",
      " 2   condition                     349406 non-null  int32  \n",
      " 3   cylinders                     349406 non-null  int32  \n",
      " 4   odometer                      349406 non-null  int32  \n",
      " 5   lat                           349406 non-null  float64\n",
      " 6   long                          349406 non-null  float64\n",
      " 7   manufacturer_acura            349406 non-null  uint8  \n",
      " 8   manufacturer_alfa-romeo       349406 non-null  uint8  \n",
      " 9   manufacturer_aston-martin     349406 non-null  uint8  \n",
      " 10  manufacturer_audi             349406 non-null  uint8  \n",
      " 11  manufacturer_bmw              349406 non-null  uint8  \n",
      " 12  manufacturer_buick            349406 non-null  uint8  \n",
      " 13  manufacturer_cadillac         349406 non-null  uint8  \n",
      " 14  manufacturer_chevrolet        349406 non-null  uint8  \n",
      " 15  manufacturer_chrysler         349406 non-null  uint8  \n",
      " 16  manufacturer_datsun           349406 non-null  uint8  \n",
      " 17  manufacturer_dodge            349406 non-null  uint8  \n",
      " 18  manufacturer_ferrari          349406 non-null  uint8  \n",
      " 19  manufacturer_fiat             349406 non-null  uint8  \n",
      " 20  manufacturer_ford             349406 non-null  uint8  \n",
      " 21  manufacturer_gmc              349406 non-null  uint8  \n",
      " 22  manufacturer_harley-davidson  349406 non-null  uint8  \n",
      " 23  manufacturer_honda            349406 non-null  uint8  \n",
      " 24  manufacturer_hyundai          349406 non-null  uint8  \n",
      " 25  manufacturer_infiniti         349406 non-null  uint8  \n",
      " 26  manufacturer_jaguar           349406 non-null  uint8  \n",
      " 27  manufacturer_jeep             349406 non-null  uint8  \n",
      " 28  manufacturer_kia              349406 non-null  uint8  \n",
      " 29  manufacturer_land rover       349406 non-null  uint8  \n",
      " 30  manufacturer_lexus            349406 non-null  uint8  \n",
      " 31  manufacturer_lincoln          349406 non-null  uint8  \n",
      " 32  manufacturer_mazda            349406 non-null  uint8  \n",
      " 33  manufacturer_mercedes-benz    349406 non-null  uint8  \n",
      " 34  manufacturer_mercury          349406 non-null  uint8  \n",
      " 35  manufacturer_mini             349406 non-null  uint8  \n",
      " 36  manufacturer_mitsubishi       349406 non-null  uint8  \n",
      " 37  manufacturer_morgan           349406 non-null  uint8  \n",
      " 38  manufacturer_nissan           349406 non-null  uint8  \n",
      " 39  manufacturer_pontiac          349406 non-null  uint8  \n",
      " 40  manufacturer_porsche          349406 non-null  uint8  \n",
      " 41  manufacturer_ram              349406 non-null  uint8  \n",
      " 42  manufacturer_rover            349406 non-null  uint8  \n",
      " 43  manufacturer_saturn           349406 non-null  uint8  \n",
      " 44  manufacturer_subaru           349406 non-null  uint8  \n",
      " 45  manufacturer_tesla            349406 non-null  uint8  \n",
      " 46  manufacturer_toyota           349406 non-null  uint8  \n",
      " 47  manufacturer_volkswagen       349406 non-null  uint8  \n",
      " 48  manufacturer_volvo            349406 non-null  uint8  \n",
      " 49  fuel_diesel                   349406 non-null  uint8  \n",
      " 50  fuel_electric                 349406 non-null  uint8  \n",
      " 51  fuel_gas                      349406 non-null  uint8  \n",
      " 52  fuel_hybrid                   349406 non-null  uint8  \n",
      " 53  fuel_other                    349406 non-null  uint8  \n",
      " 54  title_status_clean            349406 non-null  uint8  \n",
      " 55  title_status_lien             349406 non-null  uint8  \n",
      " 56  title_status_missing          349406 non-null  uint8  \n",
      " 57  title_status_parts only       349406 non-null  uint8  \n",
      " 58  title_status_rebuilt          349406 non-null  uint8  \n",
      " 59  title_status_salvage          349406 non-null  uint8  \n",
      " 60  transmission_automatic        349406 non-null  uint8  \n",
      " 61  transmission_manual           349406 non-null  uint8  \n",
      " 62  transmission_other            349406 non-null  uint8  \n",
      " 63  drive_4wd                     349406 non-null  uint8  \n",
      " 64  drive_fwd                     349406 non-null  uint8  \n",
      " 65  drive_rwd                     349406 non-null  uint8  \n",
      " 66  type_SUV                      349406 non-null  uint8  \n",
      " 67  type_bus                      349406 non-null  uint8  \n",
      " 68  type_convertible              349406 non-null  uint8  \n",
      " 69  type_coupe                    349406 non-null  uint8  \n",
      " 70  type_hatchback                349406 non-null  uint8  \n",
      " 71  type_mini-van                 349406 non-null  uint8  \n",
      " 72  type_offroad                  349406 non-null  uint8  \n",
      " 73  type_other                    349406 non-null  uint8  \n",
      " 74  type_pickup                   349406 non-null  uint8  \n",
      " 75  type_sedan                    349406 non-null  uint8  \n",
      " 76  type_truck                    349406 non-null  uint8  \n",
      " 77  type_van                      349406 non-null  uint8  \n",
      " 78  type_wagon                    349406 non-null  uint8  \n",
      "dtypes: float64(3), int32(4), uint8(72)\n",
      "memory usage: 37.3 MB\n"
     ]
    }
   ],
   "source": [
    "imputedData.info()"
   ]
  },
  {
   "cell_type": "code",
   "execution_count": 46,
   "metadata": {},
   "outputs": [
    {
     "data": {
      "text/plain": [
       "(349406, 79)"
      ]
     },
     "execution_count": 46,
     "metadata": {},
     "output_type": "execute_result"
    }
   ],
   "source": [
    "imputedData.shape"
   ]
  },
  {
   "cell_type": "code",
   "execution_count": 47,
   "metadata": {},
   "outputs": [
    {
     "data": {
      "text/html": [
       "<div>\n",
       "<style scoped>\n",
       "    .dataframe tbody tr th:only-of-type {\n",
       "        vertical-align: middle;\n",
       "    }\n",
       "\n",
       "    .dataframe tbody tr th {\n",
       "        vertical-align: top;\n",
       "    }\n",
       "\n",
       "    .dataframe thead th {\n",
       "        text-align: right;\n",
       "    }\n",
       "</style>\n",
       "<table border=\"1\" class=\"dataframe\">\n",
       "  <thead>\n",
       "    <tr style=\"text-align: right;\">\n",
       "      <th></th>\n",
       "      <th>price</th>\n",
       "      <th>year</th>\n",
       "      <th>condition</th>\n",
       "      <th>cylinders</th>\n",
       "      <th>odometer</th>\n",
       "      <th>lat</th>\n",
       "      <th>long</th>\n",
       "      <th>manufacturer_acura</th>\n",
       "      <th>manufacturer_alfa-romeo</th>\n",
       "      <th>manufacturer_aston-martin</th>\n",
       "      <th>...</th>\n",
       "      <th>type_coupe</th>\n",
       "      <th>type_hatchback</th>\n",
       "      <th>type_mini-van</th>\n",
       "      <th>type_offroad</th>\n",
       "      <th>type_other</th>\n",
       "      <th>type_pickup</th>\n",
       "      <th>type_sedan</th>\n",
       "      <th>type_truck</th>\n",
       "      <th>type_van</th>\n",
       "      <th>type_wagon</th>\n",
       "    </tr>\n",
       "  </thead>\n",
       "  <tbody>\n",
       "    <tr>\n",
       "      <th>0</th>\n",
       "      <td>33590.00</td>\n",
       "      <td>2014</td>\n",
       "      <td>3</td>\n",
       "      <td>6</td>\n",
       "      <td>57923</td>\n",
       "      <td>32.59</td>\n",
       "      <td>-85.48</td>\n",
       "      <td>0</td>\n",
       "      <td>0</td>\n",
       "      <td>0</td>\n",
       "      <td>...</td>\n",
       "      <td>0</td>\n",
       "      <td>0</td>\n",
       "      <td>0</td>\n",
       "      <td>0</td>\n",
       "      <td>0</td>\n",
       "      <td>1</td>\n",
       "      <td>0</td>\n",
       "      <td>0</td>\n",
       "      <td>0</td>\n",
       "      <td>0</td>\n",
       "    </tr>\n",
       "    <tr>\n",
       "      <th>1</th>\n",
       "      <td>22590.00</td>\n",
       "      <td>2010</td>\n",
       "      <td>3</td>\n",
       "      <td>6</td>\n",
       "      <td>71229</td>\n",
       "      <td>32.59</td>\n",
       "      <td>-85.48</td>\n",
       "      <td>0</td>\n",
       "      <td>0</td>\n",
       "      <td>0</td>\n",
       "      <td>...</td>\n",
       "      <td>0</td>\n",
       "      <td>0</td>\n",
       "      <td>0</td>\n",
       "      <td>0</td>\n",
       "      <td>0</td>\n",
       "      <td>1</td>\n",
       "      <td>0</td>\n",
       "      <td>0</td>\n",
       "      <td>0</td>\n",
       "      <td>0</td>\n",
       "    </tr>\n",
       "    <tr>\n",
       "      <th>2</th>\n",
       "      <td>39590.00</td>\n",
       "      <td>2020</td>\n",
       "      <td>3</td>\n",
       "      <td>6</td>\n",
       "      <td>19160</td>\n",
       "      <td>32.59</td>\n",
       "      <td>-85.48</td>\n",
       "      <td>0</td>\n",
       "      <td>0</td>\n",
       "      <td>0</td>\n",
       "      <td>...</td>\n",
       "      <td>0</td>\n",
       "      <td>0</td>\n",
       "      <td>0</td>\n",
       "      <td>0</td>\n",
       "      <td>0</td>\n",
       "      <td>1</td>\n",
       "      <td>0</td>\n",
       "      <td>0</td>\n",
       "      <td>0</td>\n",
       "      <td>0</td>\n",
       "    </tr>\n",
       "    <tr>\n",
       "      <th>3</th>\n",
       "      <td>30990.00</td>\n",
       "      <td>2017</td>\n",
       "      <td>3</td>\n",
       "      <td>6</td>\n",
       "      <td>41124</td>\n",
       "      <td>32.59</td>\n",
       "      <td>-85.48</td>\n",
       "      <td>0</td>\n",
       "      <td>0</td>\n",
       "      <td>0</td>\n",
       "      <td>...</td>\n",
       "      <td>0</td>\n",
       "      <td>0</td>\n",
       "      <td>0</td>\n",
       "      <td>0</td>\n",
       "      <td>0</td>\n",
       "      <td>1</td>\n",
       "      <td>0</td>\n",
       "      <td>0</td>\n",
       "      <td>0</td>\n",
       "      <td>0</td>\n",
       "    </tr>\n",
       "    <tr>\n",
       "      <th>4</th>\n",
       "      <td>15000.00</td>\n",
       "      <td>2013</td>\n",
       "      <td>5</td>\n",
       "      <td>5</td>\n",
       "      <td>128000</td>\n",
       "      <td>32.59</td>\n",
       "      <td>-85.52</td>\n",
       "      <td>0</td>\n",
       "      <td>0</td>\n",
       "      <td>0</td>\n",
       "      <td>...</td>\n",
       "      <td>0</td>\n",
       "      <td>0</td>\n",
       "      <td>0</td>\n",
       "      <td>0</td>\n",
       "      <td>0</td>\n",
       "      <td>0</td>\n",
       "      <td>0</td>\n",
       "      <td>1</td>\n",
       "      <td>0</td>\n",
       "      <td>0</td>\n",
       "    </tr>\n",
       "  </tbody>\n",
       "</table>\n",
       "<p>5 rows × 79 columns</p>\n",
       "</div>"
      ],
      "text/plain": [
       "     price  year  condition  cylinders  odometer   lat   long  \\\n",
       "0 33590.00  2014          3          6     57923 32.59 -85.48   \n",
       "1 22590.00  2010          3          6     71229 32.59 -85.48   \n",
       "2 39590.00  2020          3          6     19160 32.59 -85.48   \n",
       "3 30990.00  2017          3          6     41124 32.59 -85.48   \n",
       "4 15000.00  2013          5          5    128000 32.59 -85.52   \n",
       "\n",
       "   manufacturer_acura  manufacturer_alfa-romeo  manufacturer_aston-martin  \\\n",
       "0                   0                        0                          0   \n",
       "1                   0                        0                          0   \n",
       "2                   0                        0                          0   \n",
       "3                   0                        0                          0   \n",
       "4                   0                        0                          0   \n",
       "\n",
       "   ...  type_coupe  type_hatchback  type_mini-van  type_offroad  type_other  \\\n",
       "0  ...           0               0              0             0           0   \n",
       "1  ...           0               0              0             0           0   \n",
       "2  ...           0               0              0             0           0   \n",
       "3  ...           0               0              0             0           0   \n",
       "4  ...           0               0              0             0           0   \n",
       "\n",
       "   type_pickup  type_sedan  type_truck  type_van  type_wagon  \n",
       "0            1           0           0         0           0  \n",
       "1            1           0           0         0           0  \n",
       "2            1           0           0         0           0  \n",
       "3            1           0           0         0           0  \n",
       "4            0           0           1         0           0  \n",
       "\n",
       "[5 rows x 79 columns]"
      ]
     },
     "execution_count": 47,
     "metadata": {},
     "output_type": "execute_result"
    }
   ],
   "source": [
    "imputedData.head(5)"
   ]
  },
  {
   "cell_type": "code",
   "execution_count": 48,
   "metadata": {},
   "outputs": [
    {
     "data": {
      "text/html": [
       "<div>\n",
       "<style scoped>\n",
       "    .dataframe tbody tr th:only-of-type {\n",
       "        vertical-align: middle;\n",
       "    }\n",
       "\n",
       "    .dataframe tbody tr th {\n",
       "        vertical-align: top;\n",
       "    }\n",
       "\n",
       "    .dataframe thead th {\n",
       "        text-align: right;\n",
       "    }\n",
       "</style>\n",
       "<table border=\"1\" class=\"dataframe\">\n",
       "  <thead>\n",
       "    <tr style=\"text-align: right;\">\n",
       "      <th></th>\n",
       "      <th>price</th>\n",
       "      <th>year</th>\n",
       "      <th>condition</th>\n",
       "      <th>cylinders</th>\n",
       "      <th>odometer</th>\n",
       "      <th>lat</th>\n",
       "      <th>long</th>\n",
       "      <th>manufacturer_acura</th>\n",
       "      <th>manufacturer_alfa-romeo</th>\n",
       "      <th>manufacturer_aston-martin</th>\n",
       "      <th>...</th>\n",
       "      <th>type_coupe</th>\n",
       "      <th>type_hatchback</th>\n",
       "      <th>type_mini-van</th>\n",
       "      <th>type_offroad</th>\n",
       "      <th>type_other</th>\n",
       "      <th>type_pickup</th>\n",
       "      <th>type_sedan</th>\n",
       "      <th>type_truck</th>\n",
       "      <th>type_van</th>\n",
       "      <th>type_wagon</th>\n",
       "    </tr>\n",
       "  </thead>\n",
       "  <tbody>\n",
       "    <tr>\n",
       "      <th>count</th>\n",
       "      <td>349406.00</td>\n",
       "      <td>349406.00</td>\n",
       "      <td>349406.00</td>\n",
       "      <td>349406.00</td>\n",
       "      <td>349406.00</td>\n",
       "      <td>349406.00</td>\n",
       "      <td>349406.00</td>\n",
       "      <td>349406.00</td>\n",
       "      <td>349406.00</td>\n",
       "      <td>349406.00</td>\n",
       "      <td>...</td>\n",
       "      <td>349406.00</td>\n",
       "      <td>349406.00</td>\n",
       "      <td>349406.00</td>\n",
       "      <td>349406.00</td>\n",
       "      <td>349406.00</td>\n",
       "      <td>349406.00</td>\n",
       "      <td>349406.00</td>\n",
       "      <td>349406.00</td>\n",
       "      <td>349406.00</td>\n",
       "      <td>349406.00</td>\n",
       "    </tr>\n",
       "    <tr>\n",
       "      <th>mean</th>\n",
       "      <td>65786.62</td>\n",
       "      <td>2011.35</td>\n",
       "      <td>3.88</td>\n",
       "      <td>4.64</td>\n",
       "      <td>94594.88</td>\n",
       "      <td>38.55</td>\n",
       "      <td>-94.72</td>\n",
       "      <td>0.02</td>\n",
       "      <td>0.00</td>\n",
       "      <td>0.00</td>\n",
       "      <td>...</td>\n",
       "      <td>0.05</td>\n",
       "      <td>0.05</td>\n",
       "      <td>0.01</td>\n",
       "      <td>0.00</td>\n",
       "      <td>0.06</td>\n",
       "      <td>0.19</td>\n",
       "      <td>0.23</td>\n",
       "      <td>0.12</td>\n",
       "      <td>0.02</td>\n",
       "      <td>0.03</td>\n",
       "    </tr>\n",
       "    <tr>\n",
       "      <th>std</th>\n",
       "      <td>11101686.46</td>\n",
       "      <td>9.17</td>\n",
       "      <td>0.85</td>\n",
       "      <td>1.05</td>\n",
       "      <td>172855.16</td>\n",
       "      <td>5.85</td>\n",
       "      <td>18.31</td>\n",
       "      <td>0.12</td>\n",
       "      <td>0.05</td>\n",
       "      <td>0.01</td>\n",
       "      <td>...</td>\n",
       "      <td>0.22</td>\n",
       "      <td>0.21</td>\n",
       "      <td>0.11</td>\n",
       "      <td>0.04</td>\n",
       "      <td>0.24</td>\n",
       "      <td>0.40</td>\n",
       "      <td>0.42</td>\n",
       "      <td>0.33</td>\n",
       "      <td>0.15</td>\n",
       "      <td>0.17</td>\n",
       "    </tr>\n",
       "    <tr>\n",
       "      <th>min</th>\n",
       "      <td>1.00</td>\n",
       "      <td>1900.00</td>\n",
       "      <td>1.00</td>\n",
       "      <td>1.00</td>\n",
       "      <td>0.00</td>\n",
       "      <td>-84.12</td>\n",
       "      <td>-159.83</td>\n",
       "      <td>0.00</td>\n",
       "      <td>0.00</td>\n",
       "      <td>0.00</td>\n",
       "      <td>...</td>\n",
       "      <td>0.00</td>\n",
       "      <td>0.00</td>\n",
       "      <td>0.00</td>\n",
       "      <td>0.00</td>\n",
       "      <td>0.00</td>\n",
       "      <td>0.00</td>\n",
       "      <td>0.00</td>\n",
       "      <td>0.00</td>\n",
       "      <td>0.00</td>\n",
       "      <td>0.00</td>\n",
       "    </tr>\n",
       "    <tr>\n",
       "      <th>25%</th>\n",
       "      <td>7770.00</td>\n",
       "      <td>2008.00</td>\n",
       "      <td>3.00</td>\n",
       "      <td>4.00</td>\n",
       "      <td>36415.50</td>\n",
       "      <td>34.74</td>\n",
       "      <td>-111.93</td>\n",
       "      <td>0.00</td>\n",
       "      <td>0.00</td>\n",
       "      <td>0.00</td>\n",
       "      <td>...</td>\n",
       "      <td>0.00</td>\n",
       "      <td>0.00</td>\n",
       "      <td>0.00</td>\n",
       "      <td>0.00</td>\n",
       "      <td>0.00</td>\n",
       "      <td>0.00</td>\n",
       "      <td>0.00</td>\n",
       "      <td>0.00</td>\n",
       "      <td>0.00</td>\n",
       "      <td>0.00</td>\n",
       "    </tr>\n",
       "    <tr>\n",
       "      <th>50%</th>\n",
       "      <td>15990.00</td>\n",
       "      <td>2014.00</td>\n",
       "      <td>4.00</td>\n",
       "      <td>5.00</td>\n",
       "      <td>83957.00</td>\n",
       "      <td>39.17</td>\n",
       "      <td>-88.26</td>\n",
       "      <td>0.00</td>\n",
       "      <td>0.00</td>\n",
       "      <td>0.00</td>\n",
       "      <td>...</td>\n",
       "      <td>0.00</td>\n",
       "      <td>0.00</td>\n",
       "      <td>0.00</td>\n",
       "      <td>0.00</td>\n",
       "      <td>0.00</td>\n",
       "      <td>0.00</td>\n",
       "      <td>0.00</td>\n",
       "      <td>0.00</td>\n",
       "      <td>0.00</td>\n",
       "      <td>0.00</td>\n",
       "    </tr>\n",
       "    <tr>\n",
       "      <th>75%</th>\n",
       "      <td>27990.00</td>\n",
       "      <td>2017.00</td>\n",
       "      <td>5.00</td>\n",
       "      <td>5.00</td>\n",
       "      <td>132000.00</td>\n",
       "      <td>42.36</td>\n",
       "      <td>-80.98</td>\n",
       "      <td>0.00</td>\n",
       "      <td>0.00</td>\n",
       "      <td>0.00</td>\n",
       "      <td>...</td>\n",
       "      <td>0.00</td>\n",
       "      <td>0.00</td>\n",
       "      <td>0.00</td>\n",
       "      <td>0.00</td>\n",
       "      <td>0.00</td>\n",
       "      <td>0.00</td>\n",
       "      <td>0.00</td>\n",
       "      <td>0.00</td>\n",
       "      <td>0.00</td>\n",
       "      <td>0.00</td>\n",
       "    </tr>\n",
       "    <tr>\n",
       "      <th>max</th>\n",
       "      <td>3736928711.00</td>\n",
       "      <td>2022.00</td>\n",
       "      <td>6.00</td>\n",
       "      <td>8.00</td>\n",
       "      <td>10000000.00</td>\n",
       "      <td>82.25</td>\n",
       "      <td>173.89</td>\n",
       "      <td>1.00</td>\n",
       "      <td>1.00</td>\n",
       "      <td>1.00</td>\n",
       "      <td>...</td>\n",
       "      <td>1.00</td>\n",
       "      <td>1.00</td>\n",
       "      <td>1.00</td>\n",
       "      <td>1.00</td>\n",
       "      <td>1.00</td>\n",
       "      <td>1.00</td>\n",
       "      <td>1.00</td>\n",
       "      <td>1.00</td>\n",
       "      <td>1.00</td>\n",
       "      <td>1.00</td>\n",
       "    </tr>\n",
       "  </tbody>\n",
       "</table>\n",
       "<p>8 rows × 79 columns</p>\n",
       "</div>"
      ],
      "text/plain": [
       "              price      year  condition  cylinders    odometer       lat  \\\n",
       "count     349406.00 349406.00  349406.00  349406.00   349406.00 349406.00   \n",
       "mean       65786.62   2011.35       3.88       4.64    94594.88     38.55   \n",
       "std     11101686.46      9.17       0.85       1.05   172855.16      5.85   \n",
       "min            1.00   1900.00       1.00       1.00        0.00    -84.12   \n",
       "25%         7770.00   2008.00       3.00       4.00    36415.50     34.74   \n",
       "50%        15990.00   2014.00       4.00       5.00    83957.00     39.17   \n",
       "75%        27990.00   2017.00       5.00       5.00   132000.00     42.36   \n",
       "max   3736928711.00   2022.00       6.00       8.00 10000000.00     82.25   \n",
       "\n",
       "           long  manufacturer_acura  manufacturer_alfa-romeo  \\\n",
       "count 349406.00           349406.00                349406.00   \n",
       "mean     -94.72                0.02                     0.00   \n",
       "std       18.31                0.12                     0.05   \n",
       "min     -159.83                0.00                     0.00   \n",
       "25%     -111.93                0.00                     0.00   \n",
       "50%      -88.26                0.00                     0.00   \n",
       "75%      -80.98                0.00                     0.00   \n",
       "max      173.89                1.00                     1.00   \n",
       "\n",
       "       manufacturer_aston-martin  ...  type_coupe  type_hatchback  \\\n",
       "count                  349406.00  ...   349406.00       349406.00   \n",
       "mean                        0.00  ...        0.05            0.05   \n",
       "std                         0.01  ...        0.22            0.21   \n",
       "min                         0.00  ...        0.00            0.00   \n",
       "25%                         0.00  ...        0.00            0.00   \n",
       "50%                         0.00  ...        0.00            0.00   \n",
       "75%                         0.00  ...        0.00            0.00   \n",
       "max                         1.00  ...        1.00            1.00   \n",
       "\n",
       "       type_mini-van  type_offroad  type_other  type_pickup  type_sedan  \\\n",
       "count      349406.00     349406.00   349406.00    349406.00   349406.00   \n",
       "mean            0.01          0.00        0.06         0.19        0.23   \n",
       "std             0.11          0.04        0.24         0.40        0.42   \n",
       "min             0.00          0.00        0.00         0.00        0.00   \n",
       "25%             0.00          0.00        0.00         0.00        0.00   \n",
       "50%             0.00          0.00        0.00         0.00        0.00   \n",
       "75%             0.00          0.00        0.00         0.00        0.00   \n",
       "max             1.00          1.00        1.00         1.00        1.00   \n",
       "\n",
       "       type_truck  type_van  type_wagon  \n",
       "count   349406.00 349406.00   349406.00  \n",
       "mean         0.12      0.02        0.03  \n",
       "std          0.33      0.15        0.17  \n",
       "min          0.00      0.00        0.00  \n",
       "25%          0.00      0.00        0.00  \n",
       "50%          0.00      0.00        0.00  \n",
       "75%          0.00      0.00        0.00  \n",
       "max          1.00      1.00        1.00  \n",
       "\n",
       "[8 rows x 79 columns]"
      ]
     },
     "execution_count": 48,
     "metadata": {},
     "output_type": "execute_result"
    }
   ],
   "source": [
    "imputedData.describe()"
   ]
  },
  {
   "cell_type": "markdown",
   "metadata": {},
   "source": [
    "### Removing Outliers for Continous Features"
   ]
  },
  {
   "cell_type": "code",
   "execution_count": 49,
   "metadata": {},
   "outputs": [
    {
     "data": {
      "image/png": "[encoded data removed]",
      "text/plain": [
       "<Figure size 432x288 with 1 Axes>"
      ]
     },
     "metadata": {
      "needs_background": "light"
     },
     "output_type": "display_data"
    }
   ],
   "source": [
    "_ = sns.boxplot(x=\"price\", data=imputedData)"
   ]
  },
  {
   "cell_type": "markdown",
   "metadata": {},
   "source": [
    "As you can see the prices are so extreme in some cases that you can't even see the boxplot interior. "
   ]
  },
  {
   "cell_type": "code",
   "execution_count": 50,
   "metadata": {},
   "outputs": [
    {
     "name": "stdout",
     "output_type": "stream",
     "text": [
      "Lower Whisker:  -22560.0\n",
      "Upper whisker:  58320.0\n"
     ]
    }
   ],
   "source": [
    "Q1= imputedData['price'].quantile(0.25)\n",
    "Q3 = imputedData['price'].quantile(0.75)\n",
    "IQR = Q3 - Q1\n",
    "upper_limit = Q3 + 1.5 * IQR\n",
    "lower_limit = Q1 - 1.5 * IQR\n",
    "print(\"Lower Whisker: \", lower_limit)\n",
    "print(\"Upper whisker: \", upper_limit)"
   ]
  },
  {
   "cell_type": "code",
   "execution_count": 51,
   "metadata": {},
   "outputs": [
    {
     "data": {
      "text/plain": [
       "7034"
      ]
     },
     "execution_count": 51,
     "metadata": {},
     "output_type": "execute_result"
    }
   ],
   "source": [
    "len(imputedData[imputedData['price'] >= 58320])"
   ]
  },
  {
   "cell_type": "code",
   "execution_count": 52,
   "metadata": {},
   "outputs": [],
   "source": [
    "modelingDataset = imputedData[(imputedData['price'] < upper_limit)]"
   ]
  },
  {
   "cell_type": "code",
   "execution_count": 53,
   "metadata": {},
   "outputs": [
    {
     "data": {
      "text/plain": [
       "(342372, 79)"
      ]
     },
     "execution_count": 53,
     "metadata": {},
     "output_type": "execute_result"
    }
   ],
   "source": [
    "modelingDataset.shape"
   ]
  },
  {
   "cell_type": "code",
   "execution_count": 54,
   "metadata": {},
   "outputs": [
    {
     "data": {
      "image/png": "[encoded data removed]",
      "text/plain": [
       "<Figure size 432x288 with 1 Axes>"
      ]
     },
     "metadata": {
      "needs_background": "light"
     },
     "output_type": "display_data"
    }
   ],
   "source": [
    "_ = sns.boxplot(x=\"price\", data=modelingDataset)"
   ]
  },
  {
   "cell_type": "code",
   "execution_count": 55,
   "metadata": {},
   "outputs": [
    {
     "name": "stdout",
     "output_type": "stream",
     "text": [
      "Lower Whisker:  -21742.5\n",
      "Upper whisker:  56237.5\n"
     ]
    }
   ],
   "source": [
    "Q1= modelingDataset['price'].quantile(0.25)\n",
    "Q3 = modelingDataset['price'].quantile(0.75)\n",
    "IQR = Q3 - Q1\n",
    "upper_limit = Q3 + 1.5 * IQR\n",
    "lower_limit = Q1 - 1.5 * IQR\n",
    "print(\"Lower Whisker: \", lower_limit)\n",
    "print(\"Upper whisker: \", upper_limit)"
   ]
  },
  {
   "cell_type": "code",
   "execution_count": 56,
   "metadata": {},
   "outputs": [
    {
     "data": {
      "text/plain": [
       "826"
      ]
     },
     "execution_count": 56,
     "metadata": {},
     "output_type": "execute_result"
    }
   ],
   "source": [
    "len(modelingDataset[modelingDataset['price'] >= 56237])"
   ]
  },
  {
   "cell_type": "code",
   "execution_count": 57,
   "metadata": {},
   "outputs": [],
   "source": [
    "modelingDataset = modelingDataset[(modelingDataset['price'] < upper_limit)]"
   ]
  },
  {
   "cell_type": "code",
   "execution_count": 58,
   "metadata": {},
   "outputs": [
    {
     "data": {
      "text/plain": [
       "(341546, 79)"
      ]
     },
     "execution_count": 58,
     "metadata": {},
     "output_type": "execute_result"
    }
   ],
   "source": [
    "modelingDataset.shape"
   ]
  },
  {
   "cell_type": "code",
   "execution_count": 59,
   "metadata": {},
   "outputs": [
    {
     "data": {
      "image/png": "[encoded data removed]",
      "text/plain": [
       "<Figure size 432x288 with 1 Axes>"
      ]
     },
     "metadata": {
      "needs_background": "light"
     },
     "output_type": "display_data"
    }
   ],
   "source": [
    "_ = sns.boxplot(x=\"price\", data=modelingDataset)"
   ]
  },
  {
   "cell_type": "code",
   "execution_count": 60,
   "metadata": {},
   "outputs": [
    {
     "data": {
      "image/png": "[encoded data removed]",
      "text/plain": [
       "<Figure size 432x288 with 1 Axes>"
      ]
     },
     "metadata": {
      "needs_background": "light"
     },
     "output_type": "display_data"
    }
   ],
   "source": [
    "_ = sns.boxplot(x=\"year\", data=modelingDataset)"
   ]
  },
  {
   "cell_type": "code",
   "execution_count": 61,
   "metadata": {},
   "outputs": [
    {
     "name": "stdout",
     "output_type": "stream",
     "text": [
      "Lower Whisker:  1994.5\n",
      "Upper whisker:  2030.5\n"
     ]
    }
   ],
   "source": [
    "Q1= modelingDataset['year'].quantile(0.25)\n",
    "Q3 = modelingDataset['year'].quantile(0.75)\n",
    "IQR = Q3 - Q1\n",
    "upper_limit = Q3 + 1.5 * IQR\n",
    "lower_limit = Q1 - 1.5 * IQR\n",
    "print(\"Lower Whisker: \", lower_limit)\n",
    "print(\"Upper whisker: \", upper_limit)"
   ]
  },
  {
   "cell_type": "code",
   "execution_count": 62,
   "metadata": {},
   "outputs": [
    {
     "data": {
      "text/plain": [
       "12061"
      ]
     },
     "execution_count": 62,
     "metadata": {},
     "output_type": "execute_result"
    }
   ],
   "source": [
    "len(modelingDataset[modelingDataset['year'] <= 1994])"
   ]
  },
  {
   "cell_type": "code",
   "execution_count": 63,
   "metadata": {},
   "outputs": [],
   "source": [
    "modelingDataset = modelingDataset[(modelingDataset['year'] > 1994)]"
   ]
  },
  {
   "cell_type": "code",
   "execution_count": 64,
   "metadata": {},
   "outputs": [
    {
     "data": {
      "text/plain": [
       "(329485, 79)"
      ]
     },
     "execution_count": 64,
     "metadata": {},
     "output_type": "execute_result"
    }
   ],
   "source": [
    "modelingDataset.shape"
   ]
  },
  {
   "cell_type": "code",
   "execution_count": 65,
   "metadata": {},
   "outputs": [
    {
     "data": {
      "image/png": "[encoded data removed]",
      "text/plain": [
       "<Figure size 432x288 with 1 Axes>"
      ]
     },
     "metadata": {
      "needs_background": "light"
     },
     "output_type": "display_data"
    }
   ],
   "source": [
    "_ = sns.boxplot(x=\"year\", data=modelingDataset)"
   ]
  },
  {
   "cell_type": "code",
   "execution_count": 66,
   "metadata": {},
   "outputs": [
    {
     "data": {
      "image/png": "[encoded data removed]",
      "text/plain": [
       "<Figure size 432x288 with 1 Axes>"
      ]
     },
     "metadata": {
      "needs_background": "light"
     },
     "output_type": "display_data"
    }
   ],
   "source": [
    "_ = sns.boxplot(x=\"odometer\", data=modelingDataset)"
   ]
  },
  {
   "cell_type": "code",
   "execution_count": 67,
   "metadata": {},
   "outputs": [
    {
     "name": "stdout",
     "output_type": "stream",
     "text": [
      "Lower Whisker:  -105067.0\n",
      "Upper whisker:  276717.0\n"
     ]
    }
   ],
   "source": [
    "Q1= modelingDataset['odometer'].quantile(0.25)\n",
    "Q3 = modelingDataset['odometer'].quantile(0.75)\n",
    "IQR = Q3 - Q1\n",
    "upper_limit = Q3 + 1.5 * IQR\n",
    "lower_limit = Q1 - 1.5 * IQR\n",
    "print(\"Lower Whisker: \", lower_limit)\n",
    "print(\"Upper whisker: \", upper_limit)"
   ]
  },
  {
   "cell_type": "code",
   "execution_count": 68,
   "metadata": {},
   "outputs": [
    {
     "data": {
      "text/plain": [
       "2651"
      ]
     },
     "execution_count": 68,
     "metadata": {},
     "output_type": "execute_result"
    }
   ],
   "source": [
    "len(modelingDataset[modelingDataset['odometer'] >= 276717])"
   ]
  },
  {
   "cell_type": "code",
   "execution_count": 69,
   "metadata": {},
   "outputs": [],
   "source": [
    "modelingDataset = modelingDataset[(modelingDataset['odometer'] < 276717)]"
   ]
  },
  {
   "cell_type": "code",
   "execution_count": 70,
   "metadata": {},
   "outputs": [
    {
     "data": {
      "text/plain": [
       "(326834, 79)"
      ]
     },
     "execution_count": 70,
     "metadata": {},
     "output_type": "execute_result"
    }
   ],
   "source": [
    "modelingDataset.shape"
   ]
  },
  {
   "cell_type": "code",
   "execution_count": 71,
   "metadata": {},
   "outputs": [
    {
     "data": {
      "image/png": "[encoded data removed]",
      "text/plain": [
       "<Figure size 432x288 with 1 Axes>"
      ]
     },
     "metadata": {
      "needs_background": "light"
     },
     "output_type": "display_data"
    }
   ],
   "source": [
    "_ = sns.boxplot(x=\"odometer\", data=modelingDataset)"
   ]
  },
  {
   "cell_type": "code",
   "execution_count": 72,
   "metadata": {},
   "outputs": [],
   "source": [
    "modelingDataset.to_csv('modelingDataset.csv')"
   ]
  },
  {
   "cell_type": "markdown",
   "metadata": {},
   "source": [
    "<h2><center>End of Data Cleaning</center></h2>"
   ]
  }
 ],
 "metadata": {
  "kernelspec": {
   "display_name": "Python 3",
   "language": "python",
   "name": "python3"
  },
  "language_info": {
   "codemirror_mode": {
    "name": "ipython",
    "version": 3
   },
   "file_extension": ".py",
   "mimetype": "text/x-python",
   "name": "python",
   "nbconvert_exporter": "python",
   "pygments_lexer": "ipython3",
   "version": "3.7.6"
  }
 },
 "nbformat": 4,
 "nbformat_minor": 4
}
